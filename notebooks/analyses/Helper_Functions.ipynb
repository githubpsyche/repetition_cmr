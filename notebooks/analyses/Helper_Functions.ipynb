{
 "cells": [
  {
   "cell_type": "code",
   "execution_count": null,
   "metadata": {},
   "outputs": [],
   "source": [
    "# default_exp analyses"
   ]
  },
  {
   "cell_type": "markdown",
   "metadata": {},
   "source": [
    "# Helper Functions"
   ]
  },
  {
   "cell_type": "markdown",
   "metadata": {},
   "source": [
    "## Recall by All Study Positions\n",
    "Retrieves for each recall in passed `recall_by_first_study_position` all study positions in passed `presentations` array as a `max_repeats` x `N` matrix where `N` corresponds to number of trials in passed `recall_by_first_study_position` array."
   ]
  },
  {
   "cell_type": "code",
   "execution_count": 3,
   "metadata": {},
   "outputs": [],
   "source": [
    "# export\n",
    "from numba import njit\n",
    "import numpy as np\n",
    "\n",
    "@njit(nogil=True)\n",
    "def recall_by_all_study_positions(recall_by_first_study_position, presentations, max_repeats=3):\n",
    "    \n",
    "    trials_shape = np.shape(recall_by_first_study_position)\n",
    "    result = np.zeros(\n",
    "            (max_repeats, trials_shape[0], trials_shape[1]), dtype=np.int32)\n",
    "\n",
    "    for trial_index in range(len(recall_by_first_study_position)):\n",
    "\n",
    "        trial = recall_by_first_study_position[trial_index]\n",
    "        presentation = presentations[trial_index]\n",
    "        \n",
    "        for recall_index in range(len(trial)):\n",
    "\n",
    "            if trial[recall_index] == 0:\n",
    "                continue\n",
    "\n",
    "            presentation_positions = np.nonzero(\n",
    "                presentation[trial[recall_index] - 1] == presentation)[0] + 1\n",
    "\n",
    "            result[:len(presentation_positions), trial_index, recall_index] = presentation_positions\n",
    "\n",
    "    return result"
   ]
  }
 ],
 "metadata": {
  "interpreter": {
   "hash": "ecf5722fdaf1897a315d257d89d94520bfcaa453217d5becf09b39e73618b0de"
  },
  "kernelspec": {
   "display_name": "Python 3.9.1 ('base')",
   "language": "python",
   "name": "python3"
  },
  "language_info": {
   "codemirror_mode": {
    "name": "ipython",
    "version": 3
   },
   "file_extension": ".py",
   "mimetype": "text/x-python",
   "name": "python",
   "nbconvert_exporter": "python",
   "pygments_lexer": "ipython3",
   "version": "3.9.1"
  },
  "orig_nbformat": 4
 },
 "nbformat": 4,
 "nbformat_minor": 2
}
