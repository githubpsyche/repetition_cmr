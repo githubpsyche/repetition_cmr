{
 "cells": [
  {
   "cell_type": "code",
   "execution_count": 1,
   "metadata": {},
   "outputs": [],
   "source": [
    "# default_exp analyses"
   ]
  },
  {
   "cell_type": "markdown",
   "metadata": {},
   "source": [
    "# The Spacing Effect\n",
    "> \"The beneficial mnemonic effects of spaced over massed learning is one of the most widely documented and well studied memory phenomena. Although it is seen in a wide range of tasks, the spacing effect is particularly strong in free recall, where the probability of recalling a repeated word often increases monotonically to spacings of 20 or more items (Cepeda, Pashler, Vul, Wixted, & Rohrer, 2006; Delaney, Verkoeijen, & Spirgel, 2010; Donovan & Radosevich, 1999; Madigan, 1969; Melton, 1970).\" - Lohnas & Kahana, 2014"
   ]
  },
  {
   "cell_type": "markdown",
   "metadata": {},
   "source": [
    "## Function"
   ]
  },
  {
   "cell_type": "code",
   "execution_count": 2,
   "metadata": {},
   "outputs": [],
   "source": [
    "# export\n",
    "\n",
    "from numba import njit, prange\n",
    "import numpy as np\n",
    "\n",
    "@njit(nogil=True, parallel=True)\n",
    "def recall_probability_by_lag(study_positions_in_recall_order, presentations, max_lag=8):\n",
    "\n",
    "    total_presented, total_retrieved = np.zeros(max_lag+2), np.zeros(max_lag+2)\n",
    "\n",
    "    for trial_index in prange(len(presentations)):\n",
    "\n",
    "        # nested accumulation to ensure parallelization doesn't cause problems\n",
    "        presented, retrieved = np.zeros(max_lag+2), np.zeros(max_lag+2)\n",
    "            \n",
    "        # extract sequence of presentations\n",
    "        presentation = presentations[trial_index]\n",
    "\n",
    "        # extract sequence of responses\n",
    "        responses = study_positions_in_recall_order[trial_index]\n",
    "        responses = responses[responses > 0]-1\n",
    "\n",
    "        # for each studied_item in presentation, identify its presentation positions\n",
    "        for studied_item in np.unique(presentation):\n",
    "\n",
    "            # identify occurrences of item index in presentation vector\n",
    "            item_occurrences = np.where(presentation == studied_item)[0]\n",
    "\n",
    "            # convert to incremental distances\n",
    "            lags = item_occurrences[1:] - item_occurrences[:-1]\n",
    "            \n",
    "            # aggregate to select bin for accumulation\n",
    "            index = 0 if lags.size == 0 else np.int64(np.mean(lags))\n",
    "\n",
    "            # accumulate\n",
    "            presented[index] += 1\n",
    "            retrieved[index] += item_occurrences[0] in responses\n",
    "\n",
    "        total_presented += presented\n",
    "        total_retrieved += retrieved\n",
    "\n",
    "    return total_retrieved/total_presented"
   ]
  },
  {
   "cell_type": "markdown",
   "metadata": {},
   "source": [
    "## Howard & Kahana (2005) Dataset\n",
    "> Kahana, M. J., & Howard, M. W. (2005). Spacing and lag effects in free recall of pure lists. Psychonomic Bulletin & Review, 12(1), 159-164."
   ]
  },
  {
   "cell_type": "code",
   "execution_count": 3,
   "metadata": {},
   "outputs": [
    {
     "name": "stdout",
     "output_type": "stream",
     "text": [
      "[       nan 0.31747475        nan        nan        nan        nan\n",
      "        nan        nan        nan        nan        nan        nan\n",
      "        nan        nan        nan        nan        nan        nan\n",
      "        nan        nan        nan        nan]\n",
      "\n",
      "[       nan        nan        nan 0.34175153 0.33896104 0.32182864\n",
      " 0.35664336        nan        nan        nan        nan        nan\n",
      "        nan        nan        nan        nan        nan        nan\n",
      "        nan        nan        nan        nan]\n",
      "\n",
      "[       nan        nan        nan        nan        nan        nan\n",
      " 0.33333333 0.37306202 0.34705882 0.37369792 0.34766119 0.38208617\n",
      " 0.39018952 0.35162374 0.36267606 0.42324561 0.35549133 0.34013605\n",
      " 0.38421053 0.35652174 0.45833333        nan]\n",
      "\n"
     ]
    }
   ],
   "source": [
    "from repetition_cmr.datasets import prepare_howakaha05_data\n",
    "\n",
    "trials, events, list_length, presentations, list_types, rep_data, subjects = prepare_howakaha05_data(\n",
    "    '../../data/HowaKaha05.dat')\n",
    "\n",
    "for condition in [0, 2, 1]:\n",
    "    print(recall_probability_by_lag(trials[list_types==condition], presentations[list_types==condition], max_lag=20))\n",
    "    print()"
   ]
  },
  {
   "cell_type": "markdown",
   "metadata": {},
   "source": [
    "## Lohnas & Kahana (2014) Dataset\n",
    "> Siegel, L. L., & Kahana, M. J. (2014). A retrieved context account of spacing and repetition effects in free recall. Journal of Experimental Psychology: Learning, Memory, and Cognition, 40(3), 755."
   ]
  },
  {
   "cell_type": "code",
   "execution_count": 4,
   "metadata": {},
   "outputs": [
    {
     "name": "stdout",
     "output_type": "stream",
     "text": [
      "[0.35446429        nan        nan        nan        nan]\n",
      "\n",
      "[       nan 0.59738095        nan        nan        nan]\n",
      "\n",
      "[       nan        nan 0.62086485 0.62818187 0.64590778]\n",
      "\n",
      "[0.37278912 0.43928571 0.47678571 0.55714286 0.57857143]\n",
      "\n",
      "7.04 ms ± 64.3 µs per loop (mean ± std. dev. of 7 runs, 100 loops each)\n"
     ]
    }
   ],
   "source": [
    "from repetition_cmr.datasets import prepare_lohnas2014_data\n",
    "\n",
    "trials, events, list_length, presentations, list_types, rep_data, subjects = prepare_lohnas2014_data(\n",
    "    '../../data/repFR.mat')\n",
    "\n",
    "for condition in [1, 2, 3, 4]:\n",
    "    result = recall_probability_by_lag(trials[list_types==condition], presentations[list_types==condition], max_lag=8)\n",
    "\n",
    "    binned = np.zeros(5)\n",
    "    binned[0] = result[0]\n",
    "    binned[1] = result[1]\n",
    "    binned[2] = (result[2] + result[3])/2\n",
    "    binned[3] = (result[4] + result[5] + result[6])/3\n",
    "    binned[4] = (result[7] + result[8] + result[9])/3\n",
    "    print(binned)\n",
    "    print()\n",
    "\n",
    "%timeit recall_probability_by_lag(trials[list_types==condition], presentations[list_types==condition], max_lag=8)"
   ]
  },
  {
   "cell_type": "markdown",
   "metadata": {},
   "source": [
    "## Plotting\n",
    "We'll perform the analysis on each subject's data separately so we can compute error bars, and aggregate the results into a pandas dataframe."
   ]
  },
  {
   "cell_type": "code",
   "execution_count": 5,
   "metadata": {},
   "outputs": [],
   "source": [
    "# export\n",
    "\n",
    "import pandas as pd\n",
    "\n",
    "def df_recall_probability_by_lag(trials, presentations, subject_count, trial_count, max_lag=8):\n",
    "\n",
    "    lags = ['N/A', '0', '1-2', '3-5', '6-8']\n",
    "    result = {'subject': [], 'lag': [], 'prob': []}\n",
    "    \n",
    "    for subject in range(subject_count):\n",
    "\n",
    "        subject_result = recall_probability_by_lag(\n",
    "            trials[subject*trial_count:(subject+1)*trial_count], presentations[subject*trial_count:(subject+1)*trial_count], max_lag)\n",
    "        \n",
    "        binned = np.zeros(5)\n",
    "        binned[0] = subject_result[0]\n",
    "        binned[1] = subject_result[1]\n",
    "        binned[2] = (subject_result[2] + subject_result[3])/2\n",
    "        binned[3] = (subject_result[4] + subject_result[5] + subject_result[6])/3\n",
    "        binned[4] = (subject_result[7] + subject_result[8] + subject_result[9])/3\n",
    "\n",
    "        result['subject'] += [subject+1]*len(lags)\n",
    "        result['lag'] += lags\n",
    "        result['prob'] += binned.tolist()\n",
    "        \n",
    "    return pd.DataFrame(result)"
   ]
  },
  {
   "cell_type": "code",
   "execution_count": 6,
   "metadata": {},
   "outputs": [
    {
     "data": {
      "text/plain": [
       "Text(0, 0.5, 'Recall Probability')"
      ]
     },
     "execution_count": 6,
     "metadata": {},
     "output_type": "execute_result"
    },
    {
     "data": {
      "image/png": "[encoded data removed]",
      "text/plain": [
       "<Figure size 432x288 with 1 Axes>"
      ]
     },
     "metadata": {
      "needs_background": "light"
     },
     "output_type": "display_data"
    }
   ],
   "source": [
    "import seaborn as sns\n",
    "import matplotlib.pyplot as plt\n",
    "\n",
    "condition = 4\n",
    "source = 'Lohnas & Kahana (2014)'\n",
    "\n",
    "subject_count = len(np.unique(events.subject))\n",
    "trial_count = int(np.max(events.list)/4)\n",
    "\n",
    "data = df_recall_probability_by_lag(\n",
    "     trials[list_types>=4], presentations[list_types>=4],\n",
    "    subject_count, trial_count, list_length)\n",
    "\n",
    "sns.barplot(data=data, x='lag', y='prob')\n",
    "\n",
    "plt.title('Condition {}, {}'.format(condition, source))\n",
    "plt.xlabel('Number of Intervening Items Between Repetitions')\n",
    "plt.ylabel('Recall Probability')"
   ]
  }
 ],
 "metadata": {
  "interpreter": {
   "hash": "ecf5722fdaf1897a315d257d89d94520bfcaa453217d5becf09b39e73618b0de"
  },
  "kernelspec": {
   "display_name": "Python 3.9.1 ('base')",
   "language": "python",
   "name": "python3"
  },
  "language_info": {
   "codemirror_mode": {
    "name": "ipython",
    "version": 3
   },
   "file_extension": ".py",
   "mimetype": "text/x-python",
   "name": "python",
   "nbconvert_exporter": "python",
   "pygments_lexer": "ipython3",
   "version": "3.9.1"
  },
  "orig_nbformat": 4
 },
 "nbformat": 4,
 "nbformat_minor": 2
}
