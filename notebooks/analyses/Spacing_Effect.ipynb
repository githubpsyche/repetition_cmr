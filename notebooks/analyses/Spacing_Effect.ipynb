{
 "cells": [
  {
   "cell_type": "code",
   "execution_count": 1,
   "metadata": {},
   "outputs": [],
   "source": [
    "# default_exp analyses"
   ]
  },
  {
   "cell_type": "markdown",
   "metadata": {},
   "source": [
    "# The Spacing Effect\n",
    "> \"The beneficial mnemonic effects of spaced over massed learning is one of the most widely documented and well studied memory phenomena. Although it is seen in a wide range of tasks, the spacing effect is particularly strong in free recall, where the probability of recalling a repeated word often increases monotonically to spacings of 20 or more items (Cepeda, Pashler, Vul, Wixted, & Rohrer, 2006; Delaney, Verkoeijen, & Spirgel, 2010; Donovan & Radosevich, 1999; Madigan, 1969; Melton, 1970).\" - Lohnas & Kahana, 2014"
   ]
  },
  {
   "cell_type": "markdown",
   "metadata": {},
   "source": [
    "## Function"
   ]
  },
  {
   "cell_type": "code",
   "execution_count": 20,
   "metadata": {},
   "outputs": [],
   "source": [
    "# export\n",
    "\n",
    "from numba import njit, prange\n",
    "import numpy as np\n",
    "\n",
    "#@njit(nogil=True, parallel=True)\n",
    "def recall_probability_by_lag(study_positions_in_recall_order, presentations, max_lag=8):\n",
    "\n",
    "    total_presented, total_retrieved = np.zeros(max_lag+2), np.zeros(max_lag+2)\n",
    "\n",
    "    for trial_index in prange(len(presentations)):\n",
    "\n",
    "        # nested accumulation to ensure parallelization doesn't cause problems\n",
    "        presented, retrieved = np.zeros(max_lag+2), np.zeros(max_lag+2)\n",
    "            \n",
    "        # extract sequence of presentations\n",
    "        presentation = presentations[trial_index]\n",
    "\n",
    "        # extract sequence of responses\n",
    "        responses = study_positions_in_recall_order[trial_index]\n",
    "        responses = responses[responses > 0]-1\n",
    "\n",
    "        # for each studied_item in presentation, identify its presentation positions\n",
    "        for studied_item in np.unique(presentation):\n",
    "\n",
    "            # identify occurrences of item index in presentation vector\n",
    "            item_occurrences = np.where(presentation == studied_item)[0]\n",
    "\n",
    "            # convert to incremental distances\n",
    "            lags = item_occurrences[1:] - item_occurrences[:-1]\n",
    "            \n",
    "            # aggregate to select bin for accumulation\n",
    "            index = 0 if lags.size == 0 else np.int64(np.mean(lags))\n",
    "\n",
    "            # accumulate\n",
    "            presented[index] += 1\n",
    "            retrieved[index] += item_occurrences[0] in responses\n",
    "\n",
    "        total_presented += presented\n",
    "        total_retrieved += retrieved\n",
    "\n",
    "    return total_retrieved/total_presented"
   ]
  },
  {
   "cell_type": "markdown",
   "metadata": {},
   "source": [
    "## Plotting\n",
    "We'll perform the analysis on each subject's data separately so we can compute error bars, and aggregate the results into a pandas dataframe."
   ]
  },
  {
   "cell_type": "code",
   "execution_count": 2,
   "metadata": {},
   "outputs": [],
   "source": [
    "# export\n",
    "\n",
    "import pandas as pd\n",
    "import seaborn as sns\n",
    "import matplotlib.pyplot as plt\n",
    "from compmemlearn.datasets import events_metadata, generate_trial_mask\n",
    "\n",
    "def plot_trial_recall_probability_by_lag(\n",
    "    data, trial_query, contrast_name='', labels=None, axis=None, rigid=True):\n",
    "\n",
    "    if axis is None:\n",
    "        plt.figure()\n",
    "        axis = plt.gca()\n",
    "\n",
    "    if labels is None:\n",
    "        labels = [''] * len(data)\n",
    "\n",
    "    result = []\n",
    "    for data_index, events in enumerate(data):\n",
    "\n",
    "        # generate and subset trials array and list of list_lengths based on trial_query\n",
    "        trials, list_lengths, presentations = events_metadata(events)\n",
    "        trial_mask = generate_trial_mask(events, trial_query)\n",
    "        chose = [i for i in range(len(trial_mask)) if np.sum(trial_mask[i]) != 0]\n",
    "        assert(len(chose) == 1)\n",
    "        chose = chose[0]\n",
    "        trial_mask = trial_mask[chose]\n",
    "        trials = trials[chose][trial_mask]\n",
    "        list_length = list_lengths[chose]\n",
    "        presentations = presentations[chose][trial_mask]\n",
    "\n",
    "        # use static parameters depending on dataset if we've allowed rigid to be True\n",
    "        if rigid:\n",
    "            if np.sum(presentations[0][0] == presentations[0]) > 2:\n",
    "                repetition_count = 3\n",
    "                max_lag = 20\n",
    "            else:\n",
    "                repetition_count = 2\n",
    "                max_lag = 8\n",
    "        if max_lag != 8 and max_lag != 20:\n",
    "            raise ValueError(\"plot_recall_probability_by_lag currently only supports max_lag of 8 or 20\")\n",
    "\n",
    "        for trial_index, trial in enumerate(trials):\n",
    "\n",
    "            trial_result = recall_probability_by_lag(\n",
    "                np.expand_dims(trial, 0), np.expand_dims(presentations[trial_index], 0),  max_lag=max_lag)\n",
    "            assert(np.all(np.isnan(trial_result[:3])))\n",
    "\n",
    "            if np.sum(trial_result) == 0:\n",
    "                continue\n",
    "\n",
    "            binned = []\n",
    "            xlabels = []\n",
    "            if max_lag == 8:\n",
    "                binned.append(trial_result[0]) # N/A\n",
    "                binned.append(trial_result[1]) # massed repetition\n",
    "                binned.append(np.nanmean(trial_result[2:4])) # lag of 1-2\n",
    "                binned.append(np.nanmean(trial_result[4:7])) # lag of 3-5\n",
    "                binned.append(np.nanmean(trial_result[7:10])) # lag of 6-8\n",
    "                xlabels = ['N/A', '0', '1-2', '3-5', '6-8']\n",
    "            else:\n",
    "                binned.append(trial_result[0]) # N/A\n",
    "                binned.append(np.nanmean(trial_result[1:3])) # massed repetition\n",
    "                binned.append(np.nanmean(trial_result[3:6])) # lag of 2, 3, 4\n",
    "                binned.append(np.nanmean(trial_result[6:9])) # lag of 5, 6, 7\n",
    "                binned.append(np.nanmean(trial_result[9:12])) # lag of 8, 9, 10\n",
    "                binned.append(np.nanmean(trial_result[12:15])) # lag of 11, 12, 13\n",
    "                binned.append(np.nanmean(trial_result[15:18])) # lag of 14, 15, 16\n",
    "                binned.append(np.nanmean(trial_result[18:21])) # lag of 17, 18, 19, 20\n",
    "                xlabels = ['N/A', '0-1', '2-4', '5-7', '8-10', '11-13', '14-16', '17-19']\n",
    "            \n",
    "            \n",
    "            #xlabels = [xlabels[i] for i in range(len(xlabels)) if not np.isnan(binned[i])]\n",
    "            #binned = [b for b in binned if not np.isnan(b)]\n",
    "            result.append(pd.DataFrame.from_dict(\n",
    "                {\n",
    "                    \"lag\": xlabels,\n",
    "                    \"recall\": binned,\n",
    "                    contrast_name: labels[data_index],\n",
    "                }\n",
    "            ))\n",
    "\n",
    "    result = pd.concat(result)\n",
    "\n",
    "    sns.pointplot(ax=axis, data=result, x='lag', y='recall', hue=contrast_name) #, err_style='bars')\n",
    "    axis.set(xlabel='Lag Between Presentations', ylabel='Recall Rate')\n",
    "    #axis.set_xticks(np.arange(0, list_length+int(list_length/10), int(list_length/10)))\n",
    "    #axis.set_ylim((0, 1))\n",
    "\n",
    "    if contrast_name:\n",
    "        axis.legend(bbox_to_anchor=(1.05, 1), loc=2, borderaxespad=0.)\n",
    "    else:\n",
    "        plt.legend([],[], frameon=False)\n",
    "\n",
    "    return axis"
   ]
  },
  {
   "cell_type": "code",
   "execution_count": 10,
   "metadata": {},
   "outputs": [],
   "source": [
    "# export\n",
    "\n",
    "import pandas as pd\n",
    "import seaborn as sns\n",
    "import matplotlib.pyplot as plt\n",
    "from compmemlearn.datasets import events_metadata, generate_trial_mask\n",
    "\n",
    "def plot_recall_probability_by_lag(data, trial_query, contrast_name='', labels=None, axis=None, rigid=True):\n",
    "\n",
    "    if axis is None:\n",
    "        plt.figure()\n",
    "        axis = plt.gca()\n",
    "\n",
    "    if labels is None:\n",
    "        labels = [''] * len(data)\n",
    "\n",
    "    result = []\n",
    "    for data_index, events in enumerate(data):\n",
    "\n",
    "        # generate and subset trials array and list of list_lengths based on trial_query\n",
    "        trials, list_lengths, presentations = events_metadata(events)\n",
    "        trial_mask = generate_trial_mask(events, trial_query)\n",
    "        chose = [i for i in range(len(trial_mask)) if np.sum(trial_mask[i]) != 0]\n",
    "        assert(len(chose) == 1)\n",
    "        chose = chose[0]\n",
    "        trials = trials[chose]\n",
    "        list_length = list_lengths[chose]\n",
    "        presentations = presentations[chose]\n",
    "        trial_mask = trial_mask[chose]\n",
    "\n",
    "        # use static parameters depending on dataset if we've allowed rigid to be True\n",
    "        if rigid:\n",
    "            if np.sum(presentations[0][0] == presentations[0]) > 2:\n",
    "                repetition_count = 3\n",
    "                max_lag = 19\n",
    "            else:\n",
    "                repetition_count = 2\n",
    "                max_lag = 8\n",
    "        if max_lag != 8 and max_lag != 19:\n",
    "            raise ValueError(\"plot_recall_probability_by_lag currently only supports max_lag of 8 or 19\")\n",
    "\n",
    "        for subject in pd.unique(events.subject):\n",
    "\n",
    "            subject_specific_trial_mask = np.logical_and(\n",
    "                generate_trial_mask(events, f\"subject == {subject}\")[chose], trial_mask\n",
    "            )\n",
    "\n",
    "            if np.sum(subject_specific_trial_mask) == 0:\n",
    "                continue\n",
    "\n",
    "            subject_result = recall_probability_by_lag(\n",
    "                trials[subject_specific_trial_mask], presentations[subject_specific_trial_mask], max_lag=max_lag)\n",
    "\n",
    "            binned = []\n",
    "            xlabels = ['N/A', '0', '1-2', '3-5', '6-8']\n",
    "            binned.append(subject_result[0]) # N/A\n",
    "            binned.append(subject_result[1]) # massed repetition\n",
    "            binned.append(np.nanmean(subject_result[2:4])) # lag of 1-2\n",
    "            binned.append(np.nanmean(subject_result[4:7])) # lag of 3-5\n",
    "            binned.append(np.nanmean(subject_result[7:10])) # lag of 6-8\n",
    "            if max_lag > 8:\n",
    "                xlabels.append('9+')\n",
    "                binned.append(np.nanmean(subject_result[10:])) # lag of 9+\n",
    "                # binned.append(subject_result[0]) # N/A\n",
    "                # binned.append(np.nanmean(subject_result[1:3])) # lag of 0, 1\n",
    "                # binned.append(np.nanmean(subject_result[3:6])) # lag of 2, 3, 4\n",
    "                # binned.append(np.nanmean(subject_result[6:9])) # lag of 5, 6, 7\n",
    "                # binned.append(np.nanmean(subject_result[9:12])) # lag of 8, 9, 10\n",
    "                # binned.append(np.nanmean(subject_result[12:15])) # lag of 11, 12, 13\n",
    "                # binned.append(np.nanmean(subject_result[15:18])) # lag of 14, 15, 16\n",
    "                # binned.append(np.nanmean(subject_result[18:21])) # lag of 17, 18, 19\n",
    "                # xlabels = ['N/A', '0-1', '2-4', '5-7', '8-10', '11-13', '14-16', '17-19']\n",
    "            \n",
    "            \n",
    "            #xlabels = [xlabels[i] for i in range(len(xlabels)) if not np.isnan(binned[i])]\n",
    "            #binned = [b for b in binned if not np.isnan(b)]\n",
    "            result.append(pd.DataFrame.from_dict(\n",
    "                {\n",
    "                    \"subject\": subject,\n",
    "                    \"lag\": xlabels,\n",
    "                    \"recall\": binned,\n",
    "                    contrast_name: labels[data_index],\n",
    "                }\n",
    "            ))\n",
    "\n",
    "    result = pd.concat(result)\n",
    "\n",
    "    sns.pointplot(ax=axis, data=result, x='lag', y='recall', hue=contrast_name) #, err_style='bars')\n",
    "    axis.set(xlabel='Lag Between Presentations', ylabel='Recall Rate')\n",
    "    #axis.set_xticks(np.arange(0, list_length+int(list_length/10), int(list_length/10)))\n",
    "    #axis.set_ylim((0, 1))\n",
    "\n",
    "    if contrast_name:\n",
    "        axis.legend(bbox_to_anchor=(1.05, 1), loc=2, borderaxespad=0.)\n",
    "    else:\n",
    "        plt.legend([],[], frameon=False)\n",
    "\n",
    "    return axis"
   ]
  },
  {
   "cell_type": "code",
   "execution_count": 21,
   "metadata": {},
   "outputs": [
    {
     "name": "stderr",
     "output_type": "stream",
     "text": [
      "C:\\Users\\gunnj\\AppData\\Local\\Temp\\ipykernel_6232\\1755524960.py:42: RuntimeWarning: invalid value encountered in true_divide\n",
      "  return total_retrieved/total_presented\n"
     ]
    },
    {
     "name": "stdout",
     "output_type": "stream",
     "text": [
      "[       nan 0.31747475        nan 0.34175153 0.33896104 0.32182864\n",
      " 0.34346505 0.37306202 0.34705882 0.37369792 0.34766119 0.38208617\n",
      " 0.39018952 0.35162374 0.36267606 0.42324561 0.35549133 0.34013605\n",
      " 0.38421053 0.35652174 0.45833333]\n",
      "[nan, 0.31747474747474747, 0.3341804023618926, 0.3545286282086643, 0.36781509094542436, 0.36816310572129973, 0.3729576659788751, 0.3996885329265192]\n"
     ]
    },
    {
     "name": "stderr",
     "output_type": "stream",
     "text": [
      "No handles with labels found to put in legend.\n"
     ]
    },
    {
     "data": {
      "image/png": "[encoded data removed]",
      "text/plain": [
       "<Figure size 432x288 with 1 Axes>"
      ]
     },
     "metadata": {
      "needs_background": "light"
     },
     "output_type": "display_data"
    },
    {
     "name": "stdout",
     "output_type": "stream",
     "text": [
      "\n"
     ]
    }
   ],
   "source": [
    "import pandas as pd\n",
    "from compmemlearn.datasets import events_metadata, generate_trial_mask\n",
    "\n",
    "events = pd.read_csv('../../../compmemlearn/data/HowardKahana2005.csv')\n",
    "trials, list_lengths, presentations = events_metadata(events)\n",
    "\n",
    "#for condition in [1, 2, 0]:\n",
    "#trial_query = f\"condition == {condition}\"\n",
    "trial_query = \"condition > -1\"\n",
    "trial_mask = generate_trial_mask(events, trial_query)[0]\n",
    "subject_result = recall_probability_by_lag(trials[0][trial_mask], presentations[0][trial_mask], max_lag=19)\n",
    "\n",
    "binned = []\n",
    "binned.append(subject_result[0]) # N/A\n",
    "binned.append(np.nanmean(subject_result[1:3])) # lag of 0, 1\n",
    "binned.append(np.nanmean(subject_result[3:6])) # lag of 2, 3, 4\n",
    "binned.append(np.nanmean(subject_result[6:9])) # lag of 5, 6, 7\n",
    "binned.append(np.nanmean(subject_result[9:12])) # lag of 8, 9, 10\n",
    "binned.append(np.nanmean(subject_result[12:15])) # lag of 11, 12, 13\n",
    "binned.append(np.nanmean(subject_result[15:18])) # lag of 14, 15, 16\n",
    "binned.append(np.nanmean(subject_result[18:21])) # lag of 17, 18, 19\n",
    "xlabels = ['N/A', '0-1', '2-4', '5-7', '8-10', '11-13', '14-16', '17-19']\n",
    "print(subject_result)\n",
    "print(binned)\n",
    "\n",
    "plot_recall_probability_by_lag([events], trial_query, contrast_name='', labels=None, axis=None)\n",
    "plt.show()\n",
    "print()"
   ]
  },
  {
   "cell_type": "code",
   "execution_count": 22,
   "metadata": {},
   "outputs": [
    {
     "name": "stdout",
     "output_type": "stream",
     "text": [
      "[0.37278912 0.43928571 0.48928571 0.46428571 0.54642857 0.55357143\n",
      " 0.57142857 0.54285714 0.61428571 0.57857143]\n",
      "[0.3727891156462585, 0.4392857142857143, 0.47678571428571426, 0.5571428571428572, 0.5785714285714286]\n"
     ]
    },
    {
     "name": "stderr",
     "output_type": "stream",
     "text": [
      "No handles with labels found to put in legend.\n"
     ]
    },
    {
     "data": {
      "image/png": "[encoded data removed]",
      "text/plain": [
       "<Figure size 432x288 with 1 Axes>"
      ]
     },
     "metadata": {
      "needs_background": "light"
     },
     "output_type": "display_data"
    },
    {
     "name": "stdout",
     "output_type": "stream",
     "text": [
      "\n"
     ]
    },
    {
     "name": "stderr",
     "output_type": "stream",
     "text": [
      "C:\\Users\\gunnj\\AppData\\Local\\Temp\\ipykernel_6232\\1755524960.py:42: RuntimeWarning: invalid value encountered in true_divide\n",
      "  return total_retrieved/total_presented\n"
     ]
    },
    {
     "name": "stdout",
     "output_type": "stream",
     "text": [
      "[       nan        nan 0.59451659 0.64721311 0.61363636 0.63507109\n",
      " 0.63583815 0.63235294 0.64763231 0.6577381 ]\n",
      "[nan, nan, 0.6208648546353465, 0.6281818679909248, 0.6459077827974272]\n"
     ]
    },
    {
     "name": "stderr",
     "output_type": "stream",
     "text": [
      "No handles with labels found to put in legend.\n"
     ]
    },
    {
     "data": {
      "image/png": "[encoded data removed]",
      "text/plain": [
       "<Figure size 432x288 with 1 Axes>"
      ]
     },
     "metadata": {
      "needs_background": "light"
     },
     "output_type": "display_data"
    },
    {
     "name": "stdout",
     "output_type": "stream",
     "text": [
      "\n"
     ]
    },
    {
     "name": "stderr",
     "output_type": "stream",
     "text": [
      "C:\\Users\\gunnj\\AppData\\Local\\Temp\\ipykernel_6232\\1755524960.py:42: RuntimeWarning: invalid value encountered in true_divide\n",
      "  return total_retrieved/total_presented\n",
      "C:\\Users\\gunnj\\AppData\\Local\\Temp\\ipykernel_6232\\2657796030.py:58: RuntimeWarning: Mean of empty slice\n",
      "  binned.append(np.nanmean(subject_result[2:4])) # lag of 1-2\n",
      "C:\\Users\\gunnj\\AppData\\Local\\Temp\\ipykernel_6232\\2657796030.py:59: RuntimeWarning: Mean of empty slice\n",
      "  binned.append(np.nanmean(subject_result[4:7])) # lag of 3-5\n",
      "C:\\Users\\gunnj\\AppData\\Local\\Temp\\ipykernel_6232\\2657796030.py:60: RuntimeWarning: Mean of empty slice\n",
      "  binned.append(np.nanmean(subject_result[7:10])) # lag of 6-8\n"
     ]
    },
    {
     "name": "stdout",
     "output_type": "stream",
     "text": [
      "[       nan 0.59738095        nan        nan        nan        nan\n",
      "        nan        nan        nan        nan]\n",
      "[nan, 0.5973809523809523, nan, nan, nan]\n"
     ]
    },
    {
     "name": "stderr",
     "output_type": "stream",
     "text": [
      "No handles with labels found to put in legend.\n"
     ]
    },
    {
     "data": {
      "image/png": "[encoded data removed]",
      "text/plain": [
       "<Figure size 432x288 with 1 Axes>"
      ]
     },
     "metadata": {
      "needs_background": "light"
     },
     "output_type": "display_data"
    },
    {
     "name": "stdout",
     "output_type": "stream",
     "text": [
      "\n"
     ]
    },
    {
     "name": "stderr",
     "output_type": "stream",
     "text": [
      "C:\\Users\\gunnj\\AppData\\Local\\Temp\\ipykernel_6232\\1755524960.py:42: RuntimeWarning: invalid value encountered in true_divide\n",
      "  return total_retrieved/total_presented\n",
      "C:\\Users\\gunnj\\AppData\\Local\\Temp\\ipykernel_6232\\2657796030.py:58: RuntimeWarning: Mean of empty slice\n",
      "  binned.append(np.nanmean(subject_result[2:4])) # lag of 1-2\n",
      "C:\\Users\\gunnj\\AppData\\Local\\Temp\\ipykernel_6232\\2657796030.py:59: RuntimeWarning: Mean of empty slice\n",
      "  binned.append(np.nanmean(subject_result[4:7])) # lag of 3-5\n",
      "C:\\Users\\gunnj\\AppData\\Local\\Temp\\ipykernel_6232\\2657796030.py:60: RuntimeWarning: Mean of empty slice\n",
      "  binned.append(np.nanmean(subject_result[7:10])) # lag of 6-8\n"
     ]
    },
    {
     "name": "stdout",
     "output_type": "stream",
     "text": [
      "[0.35446429        nan        nan        nan        nan        nan\n",
      "        nan        nan        nan        nan]\n",
      "[0.35446428571428573, nan, nan, nan, nan]\n"
     ]
    },
    {
     "name": "stderr",
     "output_type": "stream",
     "text": [
      "No handles with labels found to put in legend.\n"
     ]
    },
    {
     "data": {
      "image/png": "[encoded data removed]",
      "text/plain": [
       "<Figure size 432x288 with 1 Axes>"
      ]
     },
     "metadata": {
      "needs_background": "light"
     },
     "output_type": "display_data"
    },
    {
     "name": "stdout",
     "output_type": "stream",
     "text": [
      "\n"
     ]
    }
   ],
   "source": [
    "import pandas as pd\n",
    "from compmemlearn.datasets import events_metadata, generate_trial_mask\n",
    "\n",
    "events = pd.read_csv('../../../compmemlearn/data/LohnasKahana2014.csv')\n",
    "trials, list_lengths, presentations = events_metadata(events)\n",
    "\n",
    "for condition in [4, 3, 2, 1]:\n",
    "    trial_mask = generate_trial_mask(events, f\"condition == {condition}\")[0]\n",
    "    subject_result = recall_probability_by_lag(trials[0][trial_mask], presentations[0][trial_mask], max_lag=8)\n",
    "\n",
    "    binned = []\n",
    "    labels = []\n",
    "    binned.append(subject_result[0]) # N/A\n",
    "    binned.append(subject_result[1]) # massed repetition\n",
    "    binned.append((subject_result[2] + subject_result[3])/2) # lag of 1-2\n",
    "    binned.append((subject_result[4] + subject_result[5] + subject_result[6])/3) # lag of 3-5\n",
    "    binned.append((subject_result[7] + subject_result[8] + subject_result[9])/3) # lag of 6-8\n",
    "    print(subject_result)\n",
    "    print(binned)\n",
    "\n",
    "    plot_recall_probability_by_lag([events], f\"condition == {condition}\", contrast_name='', labels=None, axis=None)\n",
    "    plt.show()\n",
    "    print()"
   ]
  },
  {
   "cell_type": "code",
   "execution_count": null,
   "metadata": {},
   "outputs": [],
   "source": []
  }
 ],
 "metadata": {
  "interpreter": {
   "hash": "ecf5722fdaf1897a315d257d89d94520bfcaa453217d5becf09b39e73618b0de"
  },
  "kernelspec": {
   "display_name": "Python 3.9.1 ('base')",
   "language": "python",
   "name": "python3"
  },
  "language_info": {
   "codemirror_mode": {
    "name": "ipython",
    "version": 3
   },
   "file_extension": ".py",
   "mimetype": "text/x-python",
   "name": "python",
   "nbconvert_exporter": "python",
   "pygments_lexer": "ipython3",
   "version": "3.9.1"
  },
  "orig_nbformat": 4
 },
 "nbformat": 4,
 "nbformat_minor": 2
}
