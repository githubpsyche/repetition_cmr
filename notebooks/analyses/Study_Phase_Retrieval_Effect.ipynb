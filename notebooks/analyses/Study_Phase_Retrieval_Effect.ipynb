{
 "cells": [
  {
   "cell_type": "code",
   "execution_count": 1,
   "metadata": {},
   "outputs": [],
   "source": [
    "# default_exp analyses"
   ]
  },
  {
   "cell_type": "markdown",
   "metadata": {},
   "source": [
    "# Study Phase Retrieval Effect\n",
    "They considered transitions between items following a shared repeated item. They calculated the proportion of those items recalled in $S_j = {j + 1, j + 2}$ of which CMR then recalled an item in the set $S_i = {i + 1, i + 2}$. They also calculated the proportion of recalls $S_i$ of which CMR then transitioned to an item in the set $S_j$. They calculated the proportion of transitions for each of lags $j - i >= 4$, and represented the mean percent of transitions across these lags. \n",
    "\n",
    "We'll extend this analysis by performing a masked, reference-shifted lag-crp analysis. We'll only track transitions from neighbors of repeatedly-presented items. And we'll shift our lag-reference from the these items to the alternative position of the repeatedly-presented items they transitioned from.\n",
    "\n",
    "To estimate the proportion of transitions that CMR would make at these lags in the absence of repeated items, they considered transitions in control lists matched to the same serial positions considered in the mixed lists. They matched these serial positions to 100 random shuffles of the control lists, and took the mean across the reshuffled datasets. We'll develop that functionality elsewhere."
   ]
  },
  {
   "cell_type": "markdown",
   "metadata": {},
   "source": [
    "## Functions\n",
    "We start with a specification of `picky_lag_crp` that supports item repetitions. Then we need to write a mask that selects transitions from items"
   ]
  },
  {
   "cell_type": "code",
   "execution_count": 2,
   "metadata": {},
   "outputs": [],
   "source": [
    "from repetition_cmr.analyses import recall_by_all_study_positions"
   ]
  },
  {
   "cell_type": "code",
   "execution_count": 3,
   "metadata": {},
   "outputs": [],
   "source": [
    "# export\n",
    "\n",
    "from numba import njit\n",
    "import numpy as np\n",
    "\n",
    "#@njit(nogil=True)\n",
    "def lag_crp(trials, presentations, max_repeats=2, mask=None, reference_positions=None):\n",
    "\n",
    "    if mask is None:\n",
    "        mask = np.ones(np.shape(trials), dtype=np.bool_)\n",
    "    \n",
    "    list_length = len(presentations[0])\n",
    "    lag_range = list_length - 1\n",
    "    total_actual_lags = np.zeros(lag_range * 2 + 1)\n",
    "    total_possible_lags = np.zeros(lag_range * 2 + 1)\n",
    "    terminus = np.sum(trials != 0, axis=1) # number of recalls per trial\n",
    "    recall_by_study_position = recall_by_all_study_positions(trials, presentations, max_repeats)\n",
    "    if reference_positions is None:\n",
    "        reference_positions = recall_by_study_position\n",
    "    \n",
    "    for trial_index in range(len(trials)):\n",
    "        \n",
    "        previous_item = 0\n",
    "        item_count = np.max(presentations[trial_index]) + 1\n",
    "        possible_items = np.arange(item_count) # initial pool of possible recalls, 1-indexed\n",
    "        possible_positions = np.zeros((item_count, max_repeats), dtype=np.int32)\n",
    "        \n",
    "        # we track possible positions using presentations and alt_presentations\n",
    "        for item in range(item_count):\n",
    "            pos = np.nonzero(presentations[trial_index] == item)[0] + 1\n",
    "            possible_positions[item, :len(pos)] = pos\n",
    "            \n",
    "        for recall_index in range(terminus[trial_index]):\n",
    "            \n",
    "            current_item = presentations[trial_index][trials[trial_index, recall_index]-1]\n",
    "            \n",
    "            # track possible and actual lags\n",
    "            if (recall_index > 0) and (mask[trial_index, recall_index]) and (\n",
    "                reference_positions[0, trial_index, recall_index-1] != 0):\n",
    "                \n",
    "                # item indices don't help track lags anymore\n",
    "                # so more complex calculation needed to identify possible lags given previous item\n",
    "                current_index = np.nonzero(possible_items==current_item)[0]\n",
    "                possible_lags = np.zeros((len(recall_by_study_position) ** 2, len(possible_items)), dtype=np.int32)\n",
    "\n",
    "                index = 0\n",
    "                for x in range(len(recall_by_study_position)):\n",
    "                    for y in range(len(reference_positions)):\n",
    "                        if reference_positions[y, trial_index, recall_index-1] > 0:\n",
    "                        \n",
    "                            possible_lags[index] = possible_positions[\n",
    "                                possible_items, x] - reference_positions[y, trial_index, recall_index-1]\n",
    "                            \n",
    "                            # if tracked position is 0, then we don't actually want to count it in our lags\n",
    "                            possible_lags[index][possible_positions[possible_items, x] == 0] = 0\n",
    "                        \n",
    "                        index += 1\n",
    "\n",
    "                possible_lags += lag_range\n",
    "                total_actual_lags[possible_lags[:, current_index].flatten()] += 1\n",
    "                total_possible_lags[possible_lags.flatten()] += 1\n",
    "                        \n",
    "\n",
    "            # update pool to exclude recalled item (updated to still identify 1-indexed item)\n",
    "            previous_item = current_item\n",
    "            possible_items = possible_items[possible_items != previous_item]\n",
    "                    \n",
    "    # small correction to avoid nans and commit to excluding multiply-tracked single presentations \n",
    "    total_actual_lags[lag_range] = 0\n",
    "    total_possible_lags[total_actual_lags==0] += 1\n",
    "    \n",
    "    return total_actual_lags/total_possible_lags"
   ]
  },
  {
   "cell_type": "code",
   "execution_count": 67,
   "metadata": {},
   "outputs": [],
   "source": [
    "# mask depends on presentation order: \n",
    "# we mask all recalls with serial positions immediately after that of an item repetition\n",
    "# first we need to identify the relevant serial positions\n",
    "trials_shape = np.shape(trials)\n",
    "mask = np.zeros(trials_shape, dtype=np.bool_)\n",
    "reference = np.zeros((2, trials_shape[0], trials_shape[1]), dtype=np.int32)\n",
    "\n",
    "for trial_index, presentation in enumerate(presentations):\n",
    "\n",
    "    masked_items = []\n",
    "    reference_positions = []\n",
    "    for current_index, current_item in enumerate(presentation[:-1]):\n",
    "\n",
    "        # identify each time current_item occurs in presentation and skip if count is 1\n",
    "        positions = np.nonzero(presentation == current_item)[0]\n",
    "        if len(positions) == 1:\n",
    "            continue\n",
    "\n",
    "        # also skip if lag between positions is <4\n",
    "        if positions[1] - positions[0] < 4:\n",
    "            continue\n",
    "\n",
    "        # identify each time successive_item occurs in presentation and skip if count is 2\n",
    "        if len(np.nonzero(presentation == presentation[current_index+1])[0]) > 1:\n",
    "            continue\n",
    "\n",
    "        # recall of item at succesive serial position should be in mask \n",
    "        masked_items.append(current_index+2)\n",
    "\n",
    "        # reference position should be the position that's distinct from current_index\n",
    "        reference_positions.append(positions[positions != current_index][0])\n",
    "\n",
    "        #print(current_item)\n",
    "\n",
    "    for i in range(len(masked_items)):\n",
    "        mask[trial_index, trials[trial_index]==masked_items[i]] = True\n",
    "        reference[0, trial_index, trials[trial_index]==masked_items[i]] = reference_positions[i]"
   ]
  },
  {
   "cell_type": "code",
   "execution_count": 54,
   "metadata": {},
   "outputs": [
    {
     "data": {
      "text/plain": [
       "array([11, 20])"
      ]
     },
     "execution_count": 54,
     "metadata": {},
     "output_type": "execute_result"
    }
   ],
   "source": [
    "trials[0][mask[0]]"
   ]
  },
  {
   "cell_type": "code",
   "execution_count": 55,
   "metadata": {},
   "outputs": [
    {
     "data": {
      "text/plain": [
       "array([[ 0,  0,  0,  0,  0,  0,  0,  0,  0, 18,  0,  0,  0,  0,  0,  9,\n",
       "         0,  0,  0,  0,  0,  0,  0,  0,  0,  0,  0,  0,  0,  0,  0,  0,\n",
       "         0,  0,  0,  0,  0,  0,  0,  0],\n",
       "       [ 0,  0,  0,  0,  0,  0,  0,  0,  0,  0,  0,  0,  0,  0,  0,  0,\n",
       "         0,  0,  0,  0,  0,  0,  0,  0,  0,  0,  0,  0,  0,  0,  0,  0,\n",
       "         0,  0,  0,  0,  0,  0,  0,  0]])"
      ]
     },
     "execution_count": 55,
     "metadata": {},
     "output_type": "execute_result"
    }
   ],
   "source": [
    "reference[:, 0]"
   ]
  },
  {
   "cell_type": "code",
   "execution_count": 56,
   "metadata": {},
   "outputs": [
    {
     "data": {
      "text/plain": [
       "array([ 1,  2,  3,  4,  5,  6,  7,  9, 10, 11, 17, 14, 12, 15, 25, 20, 28,\n",
       "       30, 39, 38, 37, 18,  0,  0,  0,  0,  0,  0,  0,  0,  0,  0,  0,  0,\n",
       "        0,  0,  0,  0,  0,  0])"
      ]
     },
     "execution_count": 56,
     "metadata": {},
     "output_type": "execute_result"
    }
   ],
   "source": [
    "trials[0]"
   ]
  },
  {
   "cell_type": "code",
   "execution_count": 57,
   "metadata": {},
   "outputs": [
    {
     "data": {
      "text/plain": [
       "array([[ 1,  2,  3,  4,  5,  6,  7,  9, 10, 11, 17, 14, 12, 15, 25, 20,\n",
       "        28, 30, 39, 38, 37, 18,  0,  0,  0,  0,  0,  0,  0,  0,  0,  0,\n",
       "         0,  0,  0,  0,  0,  0,  0,  0],\n",
       "       [ 0,  0,  0,  0,  0,  0,  0,  0, 19,  0,  0,  0, 13,  0, 31,  0,\n",
       "        34,  0,  0,  0,  0,  0,  0,  0,  0,  0,  0,  0,  0,  0,  0,  0,\n",
       "         0,  0,  0,  0,  0,  0,  0,  0]])"
      ]
     },
     "execution_count": 57,
     "metadata": {},
     "output_type": "execute_result"
    }
   ],
   "source": [
    "recall_by_study_position[:, 0]"
   ]
  },
  {
   "cell_type": "code",
   "execution_count": 65,
   "metadata": {},
   "outputs": [
    {
     "data": {
      "text/plain": [
       "array([ 0,  1,  2,  3,  4,  5,  6,  7,  8,  9, 10, 11, 11, 12, 13, 14, 15,\n",
       "       16,  9, 17, 18, 19, 18, 20, 21, 22, 19, 23, 24, 25, 21, 26, 27, 23,\n",
       "       28, 29, 30, 31, 32, 33])"
      ]
     },
     "execution_count": 65,
     "metadata": {},
     "output_type": "execute_result"
    }
   ],
   "source": [
    "presentations[0]"
   ]
  },
  {
   "cell_type": "code",
   "execution_count": 64,
   "metadata": {},
   "outputs": [
    {
     "data": {
      "text/plain": [
       "23"
      ]
     },
     "execution_count": 64,
     "metadata": {},
     "output_type": "execute_result"
    }
   ],
   "source": [
    "presentations[0][27]"
   ]
  },
  {
   "cell_type": "markdown",
   "metadata": {},
   "source": [
    "## Howard & Kahana (2005) Dataset\n",
    "> Kahana, M. J., & Howard, M. W. (2005). Spacing and lag effects in free recall of pure lists. Psychonomic Bulletin & Review, 12(1), 159-164."
   ]
  },
  {
   "cell_type": "code",
   "execution_count": 6,
   "metadata": {},
   "outputs": [
    {
     "name": "stdout",
     "output_type": "stream",
     "text": [
      "[0.10091743 0.10091743 0.10091743 0.12621359 0.12621359 0.07462687\n",
      " 0.09539474 0.09539474 0.04827586 0.06615776 0.06615776 0.03217158\n",
      " 0.06157113 0.06157113 0.03872437 0.08468468 0.08468468 0.05859375\n",
      " 0.07443366 0.07443366 0.02811951 0.04796512 0.04796512 0.02728732\n",
      " 0.05797101 0.05797101 0.03896104 0.05447942 0.05447942 0.02445652\n",
      " 0.05524239 0.05524239 0.03817734 0.05789474 0.05789474 0.02813599\n",
      " 0.04433498 0.04433498 0.02330744 0.04413146 0.04413146 0.02705515\n",
      " 0.03954306 0.03954306 0.01851852 0.04620462 0.04620462 0.03345389\n",
      " 0.04898911 0.04898911 0.02226027 0.04477612 0.04477612 0.02791461\n",
      " 0.04464918 0.04464918 0.02267396 0.04155496 0.04155496 0.02453532\n",
      " 0.05303514 0.05303514 0.03573981 0.05616606 0.05616606 0.02876712\n",
      " 0.06323877 0.06323877 0.04259502 0.06480955 0.06480955 0.03099304\n",
      " 0.05706522 0.05706522 0.03379602 0.06077922 0.06077922 0.03565167\n",
      " 0.06896552 0.06896552 0.04433221 0.09163534 0.09163534 0.06280455\n",
      " 0.13422819 0.13422819 0.09860665 0.09860665 0.09860665 0.\n",
      " 0.21415929 0.21415929 0.21415929 0.27287129 0.27287129 0.09420956\n",
      " 0.12796999 0.12796999 0.04854831 0.0861014  0.0861014  0.04709965\n",
      " 0.07399001 0.07399001 0.03455285 0.06314797 0.06314797 0.03450078\n",
      " 0.06446922 0.06446922 0.03663204 0.05912077 0.05912077 0.02837684\n",
      " 0.0604309  0.0604309  0.03848431 0.05640745 0.05640745 0.02329859\n",
      " 0.04157175 0.04157175 0.02225048 0.04714202 0.04714202 0.02974223\n",
      " 0.04347826 0.04347826 0.01798064 0.03994845 0.03994845 0.02571429\n",
      " 0.04333333 0.04333333 0.02149741 0.04867872 0.04867872 0.03205629\n",
      " 0.04661326 0.04661326 0.01896125 0.04284621 0.04284621 0.02889667\n",
      " 0.04146341 0.04146341 0.01683817 0.03135889 0.03135889 0.018\n",
      " 0.04182156 0.04182156 0.02925244 0.03907816 0.03907816 0.01396973\n",
      " 0.02881537 0.02881537 0.01898734 0.03055229 0.03055229 0.01591896\n",
      " 0.03543307 0.03543307 0.02640264 0.04268293 0.04268293 0.02352941\n",
      " 0.04363636 0.04363636 0.02985075 0.03738318 0.03738318 0.01428571\n",
      " 0.02380952 0.02380952 0.01948052 0.01948052 0.01948052]\n",
      "\n",
      "[0.03205128 0.03716216 0.02714932 0.02544031 0.03499079 0.0483871\n",
      " 0.03648425 0.03785489 0.05616225 0.04491018 0.04927536 0.06232687\n",
      " 0.05013193 0.055      0.05791962 0.05073281 0.04934211 0.05408271\n",
      " 0.06133056 0.04563895 0.04223969 0.05598456 0.05915493 0.06035283\n",
      " 0.05071174 0.05055698 0.04983108 0.05896806 0.05458861 0.05413766\n",
      " 0.04569688 0.05251313 0.0494186  0.05449398 0.05754386 0.04679972\n",
      " 0.04633983 0.05370007 0.04697555 0.04854981 0.06169031 0.04329268\n",
      " 0.05605787 0.04853206 0.04449649 0.05919907 0.05536723 0.05135284\n",
      " 0.05827378 0.05248918 0.05455508 0.06325144 0.05406797 0.05119108\n",
      " 0.06517413 0.06216083 0.0538835  0.06123433 0.06520704 0.06020696\n",
      " 0.06629318 0.05833716 0.0674567  0.06034868 0.05595027 0.06943231\n",
      " 0.06309013 0.06970849 0.07325241 0.0659204  0.06534091 0.07559308\n",
      " 0.0772     0.08432776 0.07932123 0.08096536 0.10815939 0.10594512\n",
      " 0.10882573 0.13343163 0.12287061 0.14260809 0.17293998 0.15188979\n",
      " 0.16865825 0.17948718 0.18473896 0.22358643 0.23392569 0.\n",
      " 0.26685934 0.22693904 0.18378378 0.19264806 0.1983165  0.17734673\n",
      " 0.18068966 0.17570879 0.15812274 0.15288497 0.15067976 0.12867507\n",
      " 0.11484919 0.12416503 0.09976057 0.10216346 0.09027778 0.08267879\n",
      " 0.0914405  0.07865646 0.08048464 0.07425308 0.06550802 0.06548431\n",
      " 0.07001382 0.06535026 0.05968735 0.06207565 0.05673409 0.0568012\n",
      " 0.05954198 0.05621454 0.06318538 0.05235325 0.05143476 0.06469298\n",
      " 0.05440269 0.05473204 0.04602992 0.05356092 0.05174489 0.05914303\n",
      " 0.04773714 0.05003167 0.0571066  0.04359141 0.063249   0.04959786\n",
      " 0.04886442 0.05137227 0.04967603 0.05014535 0.05567929 0.05660377\n",
      " 0.03941267 0.04344392 0.05301205 0.06033058 0.0394958  0.04295533\n",
      " 0.04744852 0.04359926 0.05332086 0.04527559 0.03688933 0.04365904\n",
      " 0.05336179 0.04777416 0.04295154 0.03908046 0.03659976 0.04878049\n",
      " 0.05732484 0.03743316 0.04734577 0.05045872 0.0512     0.04794521\n",
      " 0.03119266 0.0403071  0.0625     0.04565217 0.02908277 0.02863962\n",
      " 0.04092072 0.02816901 0.02721088 0.03286385 0.03361345]\n",
      "\n",
      "[0.05128205 0.0625     0.02147239 0.02314815 0.01737452 0.0211039\n",
      " 0.01591896 0.032      0.0443038  0.03056235 0.03476246 0.024\n",
      " 0.01982379 0.03311966 0.03608247 0.04632427 0.03353057 0.04625984\n",
      " 0.04003813 0.03049908 0.03885291 0.0438675  0.03342128 0.04370629\n",
      " 0.05706985 0.03957131 0.0472     0.05507474 0.04898911 0.05137751\n",
      " 0.04468864 0.05595409 0.06002825 0.05027548 0.05128205 0.05847569\n",
      " 0.05523443 0.05594855 0.04940588 0.05132962 0.05961071 0.05829327\n",
      " 0.07038123 0.06462781 0.05577918 0.06749858 0.06575964 0.05908584\n",
      " 0.05940594 0.0690411  0.06734914 0.07196162 0.06860158 0.06997389\n",
      " 0.07511497 0.08442872 0.08041958 0.07580175 0.06599713 0.06948357\n",
      " 0.07908046 0.0912844  0.08512545 0.07811121 0.07879046 0.088645\n",
      " 0.08821105 0.09356015 0.09652972 0.10131108 0.09476996 0.10452418\n",
      " 0.10458015 0.10942249 0.09756098 0.1131864  0.11903882 0.10951327\n",
      " 0.10821571 0.1115495  0.10990991 0.12504492 0.12879884 0.11609403\n",
      " 0.13745583 0.12091038 0.12084806 0.12513256 0.16607523 0.\n",
      " 0.20595533 0.15021307 0.13000354 0.12042629 0.12978723 0.11021604\n",
      " 0.12559502 0.13293944 0.12695526 0.12285818 0.1056493  0.11655531\n",
      " 0.1044101  0.09785111 0.11535464 0.11350294 0.11592459 0.10943242\n",
      " 0.10842881 0.09489667 0.10499577 0.10692641 0.10444444 0.09049774\n",
      " 0.09798406 0.08927728 0.08516746 0.0949336  0.09492717 0.08008109\n",
      " 0.08684347 0.06994127 0.07824223 0.07330416 0.07641196 0.0780379\n",
      " 0.07248018 0.07155123 0.06912712 0.06488095 0.06551519 0.06550481\n",
      " 0.06107341 0.06390977 0.06058673 0.05813194 0.0626236  0.07498341\n",
      " 0.05987612 0.06073446 0.06036364 0.06137725 0.05940594 0.05882353\n",
      " 0.06       0.05785124 0.05702128 0.05826907 0.0621118  0.05415162\n",
      " 0.05263158 0.04901037 0.06051873 0.05196078 0.04435484 0.05076142\n",
      " 0.04037267 0.04983749 0.04925054 0.05670665 0.05005562 0.04065041\n",
      " 0.04428904 0.04933815 0.03498191 0.04030227 0.04768212 0.03333333\n",
      " 0.03248588 0.0320122  0.02791461 0.03003534 0.02895753 0.0237069\n",
      " 0.04347826 0.05504587 0.03515625 0.02209945 0.00970874]\n",
      "\n"
     ]
    }
   ],
   "source": [
    "from repetition_cmr.datasets import prepare_howakaha05_data\n",
    "\n",
    "trials, events, list_length, presentations, list_types, rep_data, subjects = prepare_howakaha05_data(\n",
    "    '../../data/HowaKaha05.dat')\n",
    "\n",
    "for condition in [0, 2, 1]:\n",
    "    print(lag_crp(trials[list_types==condition], presentations[list_types==condition], max_repeats=3))\n",
    "    print()"
   ]
  },
  {
   "cell_type": "markdown",
   "metadata": {},
   "source": [
    "## Lohnas & Kahana (2014) Dataset\n",
    "> Siegel, L. L., & Kahana, M. J. (2014). A retrieved context account of spacing and repetition effects in free recall. Journal of Experimental Psychology: Learning, Memory, and Cognition, 40(3), 755."
   ]
  },
  {
   "cell_type": "code",
   "execution_count": 4,
   "metadata": {},
   "outputs": [
    {
     "name": "stdout",
     "output_type": "stream",
     "text": [
      "[0.10416667 0.04166667 0.02147239 0.0228833  0.01654412 0.01880878\n",
      " 0.01775956 0.02140309 0.02038627 0.01629914 0.02       0.01670644\n",
      " 0.01305684 0.01468531 0.01878238 0.017042   0.01747234 0.01930502\n",
      " 0.01536831 0.01510574 0.01016949 0.01390176 0.01393885 0.01690507\n",
      " 0.01760131 0.02655569 0.01942117 0.0177712  0.01956599 0.02229081\n",
      " 0.02253148 0.02098128 0.02182163 0.02749459 0.02875974 0.03524229\n",
      " 0.05237689 0.06995769 0.1551922  0.         0.25058603 0.09483765\n",
      " 0.06154943 0.04214095 0.02825979 0.02849873 0.02509804 0.02086677\n",
      " 0.02140078 0.02180149 0.01564345 0.01611922 0.01162425 0.01868557\n",
      " 0.01537433 0.01518288 0.01601423 0.01365818 0.01031716 0.01069731\n",
      " 0.01161344 0.01133391 0.01545455 0.01106833 0.00858152 0.01419558\n",
      " 0.01462317 0.013261   0.014295   0.01597222 0.00988593 0.01417848\n",
      " 0.01458523 0.014      0.0046729  0.01536313 0.00696864 0.0049505\n",
      " 0.00452489]\n",
      "\n",
      "[0.09734513 0.09734513 0.08050847 0.03524229 0.07859079 0.06069364\n",
      " 0.07889546 0.04103672 0.07066052 0.04576271 0.0675     0.03797468\n",
      " 0.06659619 0.0430622  0.06927985 0.04149378 0.06634692 0.03959484\n",
      " 0.07814761 0.05421184 0.07388205 0.0365399  0.07008245 0.04771643\n",
      " 0.07374794 0.04123711 0.07455919 0.04955752 0.08138447 0.04997224\n",
      " 0.10052219 0.07283058 0.12862903 0.08734053 0.15616847 0.11147086\n",
      " 0.2562797  0.22041166 0.22041166 0.         0.37571904 0.37571904\n",
      " 0.44655217 0.15265082 0.21569156 0.09525327 0.13295129 0.05563048\n",
      " 0.08708892 0.04302987 0.06751055 0.03291714 0.06004859 0.03445513\n",
      " 0.05810511 0.03073593 0.0457097  0.02016886 0.0389948  0.02401635\n",
      " 0.04015116 0.02137233 0.03856175 0.02242991 0.04186047 0.02533427\n",
      " 0.04123037 0.02163462 0.03889304 0.02321263 0.03836094 0.02146893\n",
      " 0.03552207 0.02028986 0.03163686 0.01859504 0.03180915 0.02755906\n",
      " 0.02755906]\n",
      "\n",
      "[0.04968944 0.053125   0.06334842 0.04145078 0.04299363 0.05462185\n",
      " 0.06700379 0.04591265 0.05876289 0.04545455 0.06233988 0.053148\n",
      " 0.04883721 0.05703704 0.05841924 0.05555556 0.05605096 0.05333333\n",
      " 0.05128205 0.06032097 0.05402542 0.06046748 0.06047198 0.06941839\n",
      " 0.06630582 0.07769533 0.07990012 0.08339952 0.08632813 0.12194204\n",
      " 0.10481032 0.15327434 0.1519411  0.16762269 0.18644068 0.19298771\n",
      " 0.2029026  0.23249599 0.2838994  0.         0.35789217 0.25069638\n",
      " 0.20603955 0.21198038 0.19598394 0.18644068 0.16991801 0.14376627\n",
      " 0.13785626 0.14093759 0.1046798  0.08216113 0.08366534 0.07199449\n",
      " 0.06205674 0.05703704 0.04695191 0.05190174 0.04905194 0.04327131\n",
      " 0.03962179 0.04316888 0.04470116 0.03719447 0.03271292 0.03516091\n",
      " 0.04259377 0.03353454 0.02690909 0.03185703 0.02727273 0.03280142\n",
      " 0.02967359 0.02145923 0.02377972 0.02142857 0.01232394 0.02040816\n",
      " 0.00995025]\n",
      "\n",
      "[0.04545455 0.07741935 0.02702703 0.03448276 0.01239669 0.01867572\n",
      " 0.01267606 0.0255164  0.0311493  0.02812803 0.02410714 0.02390767\n",
      " 0.02356638 0.01918819 0.02116041 0.02271252 0.02799757 0.02669762\n",
      " 0.0268757  0.0295858  0.02862883 0.02987952 0.02465116 0.0199027\n",
      " 0.02997859 0.02920609 0.03033885 0.03862333 0.04053552 0.04422869\n",
      " 0.04406539 0.05585831 0.0589584  0.05534106 0.0639848  0.06148171\n",
      " 0.08683975 0.09879092 0.17528821 0.         0.28192131 0.12563791\n",
      " 0.08370591 0.06432161 0.06537967 0.05540897 0.05018991 0.04840941\n",
      " 0.03874644 0.0437536  0.03453365 0.03611195 0.0264234  0.03119922\n",
      " 0.0254065  0.01907074 0.02382671 0.02185995 0.02243714 0.01709742\n",
      " 0.01704782 0.01742919 0.0191344  0.01429933 0.01544594 0.01411396\n",
      " 0.02090209 0.01302546 0.01519949 0.01491525 0.01538462 0.01579779\n",
      " 0.0123131  0.01383399 0.01030928 0.00693481 0.01202749 0.01428571\n",
      " 0.01298701]\n",
      "\n",
      "250 ms ± 8.51 ms per loop (mean ± std. dev. of 7 runs, 1 loop each)\n"
     ]
    }
   ],
   "source": [
    "from compmemlearn.datasets import prepare_lohnas2014_data\n",
    "\n",
    "trials, events, list_length, presentations, list_types, rep_data, subjects = prepare_lohnas2014_data(\n",
    "    '../../data/repFR.mat')\n",
    "\n",
    "for condition in [1, 2, 3, 4]:\n",
    "    print(lag_crp(trials[list_types==condition], presentations[list_types==condition], 2))\n",
    "    print()\n",
    "\n",
    "%timeit lag_crp(trials[list_types==condition], presentations[list_types==condition], 2)"
   ]
  },
  {
   "cell_type": "code",
   "execution_count": null,
   "metadata": {},
   "outputs": [],
   "source": []
  }
 ],
 "metadata": {
  "interpreter": {
   "hash": "ecf5722fdaf1897a315d257d89d94520bfcaa453217d5becf09b39e73618b0de"
  },
  "kernelspec": {
   "display_name": "Python 3.9.1 ('base')",
   "language": "python",
   "name": "python3"
  },
  "language_info": {
   "codemirror_mode": {
    "name": "ipython",
    "version": 3
   },
   "file_extension": ".py",
   "mimetype": "text/x-python",
   "name": "python",
   "nbconvert_exporter": "python",
   "pygments_lexer": "ipython3",
   "version": "3.9.1"
  },
  "orig_nbformat": 4
 },
 "nbformat": 4,
 "nbformat_minor": 2
}
